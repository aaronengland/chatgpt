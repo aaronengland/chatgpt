{
 "cells": [
  {
   "cell_type": "code",
   "execution_count": null,
   "id": "f573ddd6",
   "metadata": {},
   "outputs": [],
   "source": [
    "import chatgpt.functions as gpt"
   ]
  },
  {
   "cell_type": "code",
   "execution_count": null,
   "id": "81d4b759",
   "metadata": {},
   "outputs": [],
   "source": [
    "# key\n",
    "str_key = 'GET-SECRET-KEY-FROM-https://platform.openai.com/account/api-keys'"
   ]
  },
  {
   "cell_type": "code",
   "execution_count": null,
   "id": "16490d5d",
   "metadata": {},
   "outputs": [],
   "source": [
    "# init\n",
    "cls_gpt = gpt.ChatGPT(\n",
    "    str_key=str_key,\n",
    ")"
   ]
  },
  {
   "cell_type": "code",
   "execution_count": null,
   "id": "6e0f1bfc",
   "metadata": {},
   "outputs": [],
   "source": [
    "# create prompt\n",
    "str_prompt = 'Using python, how do I group a data frame?'"
   ]
  },
  {
   "cell_type": "code",
   "execution_count": null,
   "id": "0838974c",
   "metadata": {},
   "outputs": [],
   "source": [
    "# send prompt\n",
    "str_response = cls_gpt.send_prompt(\n",
    "    str_prompt=str_prompt,\n",
    ")\n",
    "print(str_response)"
   ]
  }
 ],
 "metadata": {
  "kernelspec": {
   "display_name": "Python 3 (ipykernel)",
   "language": "python",
   "name": "python3"
  },
  "language_info": {
   "codemirror_mode": {
    "name": "ipython",
    "version": 3
   },
   "file_extension": ".py",
   "mimetype": "text/x-python",
   "name": "python",
   "nbconvert_exporter": "python",
   "pygments_lexer": "ipython3",
   "version": "3.9.7"
  }
 },
 "nbformat": 4,
 "nbformat_minor": 5
}
